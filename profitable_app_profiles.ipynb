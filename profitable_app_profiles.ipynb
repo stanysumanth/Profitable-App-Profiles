{
 "metadata": {
  "language_info": {
   "codemirror_mode": {
    "name": "ipython",
    "version": 3
   },
   "file_extension": ".py",
   "mimetype": "text/x-python",
   "name": "python",
   "nbconvert_exporter": "python",
   "pygments_lexer": "ipython3",
   "version": "3.9.5"
  },
  "orig_nbformat": 4,
  "kernelspec": {
   "name": "python3",
   "display_name": "Python 3.9.5 64-bit"
  },
  "interpreter": {
   "hash": "ac59ebe37160ed0dfa835113d9b8498d9f09ceb179beaac4002f036b9467c963"
  }
 },
 "nbformat": 4,
 "nbformat_minor": 2,
 "cells": [
  {
   "source": [
    "# Profitable App Profiles for the App Store and Google Play Markets.\n",
    "\n",
    "\n",
    "Our company builds Android and iOS mobile apps and We make our apps available on Google Play and the App Store for the users . Moreover We only build apps that are free to download and install, and our main source of revenue consists of in-app ads. This means our revenue for any given app is mostly influenced by the number of users who use our app — the more users that see and engage with the ads, the better. \n",
    "\n",
    "Our aim in this project is to find mobile app profiles that are profitable for the App Store and Google Play markets by analysing the data to help our developers understand what kind of apps are likely to attract more users."
   ],
   "cell_type": "markdown",
   "metadata": {}
  },
  {
   "source": [
    "## Opening and Exploring the Datasets.\n",
    "\n",
    "\n",
    " * The first dataset contains data about approximately 10,000 Android apps from Google Play. Here is the link to download the dataset [GooglePlaystore](https://www.kaggle.com/lava18/google-play-store-apps)\n",
    " * The second dataset contains data about  approximately 7,000 iOS apps from the App Store. Here is the link to download the dataset [AppStore](https://www.kaggle.com/ramamet4/app-store-apple-data-set-10k-apps)\n",
    "\n",
    "Let's start by opening and exploring these two data sets."
   ],
   "cell_type": "markdown",
   "metadata": {}
  },
  {
   "cell_type": "code",
   "execution_count": 49,
   "metadata": {},
   "outputs": [],
   "source": [
    "from csv import reader\n",
    "\n",
    "# Reading Google PLay Store Data \n",
    "opened_file = open('googleplaystore.csv', encoding = \"utf8\" )\n",
    "read_file = reader(opened_file)\n",
    "playstore = list(read_file)\n",
    "playstore_header = playstore[0]\n",
    "playstore_data = playstore[1:]\n",
    "\n",
    "# Reading App Store Data \n",
    "opened_file = open('AppleStore.csv', encoding = \"utf8\")\n",
    "read_file = reader(opened_file)\n",
    "appstore = list(read_file)\n",
    "appstore_header = appstore[0]\n",
    "appstore_data = appstore[1:]"
   ]
  },
  {
   "source": [
    "To make it a bit easier to explore the data sets, we'll first write a function named **explore_data()**  "
   ],
   "cell_type": "markdown",
   "metadata": {}
  },
  {
   "cell_type": "code",
   "execution_count": 50,
   "metadata": {},
   "outputs": [],
   "source": [
    "def explore_dataset(dataset, start, end, rows_and_columns=True):\n",
    "    data = dataset[start:end]\n",
    "    for row in data:\n",
    "        print(row)\n",
    "        print('\\n')\n",
    "    if rows_and_columns:\n",
    "        print(f'Number of Rows : {len(dataset)}') \n",
    "        print(f'Number of Columns: {len(dataset[0])}')\n",
    "\n",
    "# dataset - list of lists\n",
    "# start - starting indices for slicing the dataset\n",
    "# end  - ending indices for slicing the dataset\n",
    "# rows_and_column = bool, default (True)"
   ]
  },
  {
   "source": [
    "Let's first explore the Google Play Store Data"
   ],
   "cell_type": "markdown",
   "metadata": {}
  },
  {
   "cell_type": "code",
   "execution_count": 51,
   "metadata": {},
   "outputs": [
    {
     "output_type": "stream",
     "name": "stdout",
     "text": [
      "['App', 'Category', 'Rating', 'Reviews', 'Size', 'Installs', 'Type', 'Price', 'Content Rating', 'Genres', 'Last Updated', 'Current Ver', 'Android Ver'] \n\n['Coloring book moana', 'ART_AND_DESIGN', '3.9', '967', '14M', '500,000+', 'Free', '0', 'Everyone', 'Art & Design;Pretend Play', 'January 15, 2018', '2.0.0', '4.0.3 and up']\n\n\n['U Launcher Lite – FREE Live Cool Themes, Hide Apps', 'ART_AND_DESIGN', '4.7', '87510', '8.7M', '5,000,000+', 'Free', '0', 'Everyone', 'Art & Design', 'August 1, 2018', '1.2.4', '4.0.3 and up']\n\n\n['Sketch - Draw & Paint', 'ART_AND_DESIGN', '4.5', '215644', '25M', '50,000,000+', 'Free', '0', 'Teen', 'Art & Design', 'June 8, 2018', 'Varies with device', '4.2 and up']\n\n\n['Pixel Draw - Number Art Coloring Book', 'ART_AND_DESIGN', '4.3', '967', '2.8M', '100,000+', 'Free', '0', 'Everyone', 'Art & Design;Creativity', 'June 20, 2018', '1.1', '4.4 and up']\n\n\nNumber of Rows : 10841\nNumber of Columns: 13\n"
     ]
    }
   ],
   "source": [
    "print(playstore_header,'\\n')\n",
    "\n",
    "explore_dataset(playstore_data, 1, 5, True)"
   ]
  },
  {
   "source": [
    "we can see that the Google Play Store data set contains data of 10841 apps across 13 columns (wherein each column is a feature of these apps).\n",
    "\n",
    "At first glance, few features that seem interesting are- 'App', 'Category','Rrating', 'Reviews', 'Installs', 'Type', 'Price', and 'Genres'."
   ],
   "cell_type": "markdown",
   "metadata": {}
  },
  {
   "source": [
    "Now let's explore the App Store data set."
   ],
   "cell_type": "markdown",
   "metadata": {}
  },
  {
   "cell_type": "code",
   "execution_count": 52,
   "metadata": {},
   "outputs": [
    {
     "output_type": "stream",
     "name": "stdout",
     "text": [
      "['id', 'track_name', 'size_bytes', 'currency', 'price', 'rating_count_tot', 'rating_count_ver', 'user_rating', 'user_rating_ver', 'ver', 'cont_rating', 'prime_genre', 'sup_devices.num', 'ipadSc_urls.num', 'lang.num', 'vpp_lic'] \n\n['389801252', 'Instagram', '113954816', 'USD', '0.0', '2161558', '1289', '4.5', '4.0', '10.23', '12+', 'Photo & Video', '37', '0', '29', '1']\n\n\n['529479190', 'Clash of Clans', '116476928', 'USD', '0.0', '2130805', '579', '4.5', '4.5', '9.24.12', '9+', 'Games', '38', '5', '18', '1']\n\n\n['420009108', 'Temple Run', '65921024', 'USD', '0.0', '1724546', '3842', '4.5', '4.0', '1.6.2', '9+', 'Games', '40', '5', '1', '1']\n\n\n['284035177', 'Pandora - Music & Radio', '130242560', 'USD', '0.0', '1126879', '3594', '4.0', '4.5', '8.4.1', '12+', 'Music', '37', '4', '1', '1']\n\n\nNumber of Rows : 7197\nNumber of Columns: 16\n"
     ]
    }
   ],
   "source": [
    "print(appstore_header, '\\n')\n",
    "\n",
    "explore_dataset(appstore_data, 1, 5, True)"
   ]
  },
  {
   "source": [
    "we can see that the App Store data set contains data of 7197 apps across 16 columns (wherein each column is a feature of these apps).\n",
    "\n",
    "At first glance few, features that seem interesting are - 'track_name', 'currency', 'price', 'rating_count_tot', 'user_rating', and 'prime_genre'.\n",
    "\n",
    "Please refer to this [Documentation](https://www.kaggle.com/ramamet4/app-store-apple-data-set-10k-apps/home) to get details regarding each column. "
   ],
   "cell_type": "markdown",
   "metadata": {}
  },
  {
   "source": [
    "Before beginning our analysis, we need to make sure the data we analyze is accurate, otherwise the results of our analysis will be wrong. This means that we need to:\n",
    "\n",
    "Detect inaccurate data, and correct or remove it.\n",
    "Detect duplicate data, and remove the duplicates."
   ],
   "cell_type": "markdown",
   "metadata": {}
  },
  {
   "source": [
    "# Data Cleaning\n",
    "The Google Play data set has a dedicated [discussion](https://www.kaggle.com/lava18/google-play-store-apps/discussion) section, and we can see that [one of the discussions](https://www.kaggle.com/lava18/google-play-store-apps/discussion/66015) describes an error for a certain row ( row 10472).\n",
    "\n"
   ],
   "cell_type": "markdown",
   "metadata": {}
  },
  {
   "cell_type": "code",
   "execution_count": 53,
   "metadata": {},
   "outputs": [
    {
     "output_type": "stream",
     "name": "stdout",
     "text": [
      "['App', 'Category', 'Rating', 'Reviews', 'Size', 'Installs', 'Type', 'Price', 'Content Rating', 'Genres', 'Last Updated', 'Current Ver', 'Android Ver'] \n",
      "\n",
      "['Photo Editor & Candy Camera & Grid & ScrapBook', 'ART_AND_DESIGN', '4.1', '159', '19M', '10,000+', 'Free', '0', 'Everyone', 'Art & Design', 'January 7, 2018', '1.0.0', '4.0.3 and up'] \n",
      "\n",
      "['Life Made WI-Fi Touchscreen Photo Frame', '1.9', '19', '3.0M', '1,000+', 'Free', '0', 'Everyone', '', 'February 11, 2018', '1.0.19', '4.0 and up']\n"
     ]
    }
   ],
   "source": [
    "print(playstore_header, '\\n')\n",
    "print(playstore_data[0], '\\n')\n",
    "print(playstore_data[10472])"
   ]
  },
  {
   "source": [
    "By cross-referencing the data with acorrect data and the header we can find that for the app *'Life Made WI-Fi Touchscreen Photo Frame'* the rating is 19 which is clearly off because the maximum rating allowed in the Google Play Store is 5 . \n",
    "This problem is caused due to missing data in the 'category' column , hence we can delete this row ."
   ],
   "cell_type": "markdown",
   "metadata": {}
  },
  {
   "cell_type": "code",
   "execution_count": 54,
   "metadata": {},
   "outputs": [
    {
     "output_type": "stream",
     "name": "stdout",
     "text": [
      "Total rows before deleting incorrect data: 10841 \n\nTotal rows after deleting incorrect data: 10840\n"
     ]
    }
   ],
   "source": [
    "print(f'Total rows before deleting incorrect data: {len(playstore_data)}', '\\n')\n",
    "\n",
    "# deleting incorrect data\n",
    "del(playstore_data[10472])\n",
    "\n",
    "print(f'Total rows after deleting incorrect data: {len(playstore_data)}')"
   ]
  },
  {
   "source": [
    "By going through the dedicated [discussion](https://www.kaggle.com/ramamet4/app-store-apple-data-set-10k-apps/discussion) section of the App Store data set we dont find any incorrect data being reported hence we need not remove any data from this data set."
   ],
   "cell_type": "markdown",
   "metadata": {}
  },
  {
   "source": [
    "## Removing duplicate data.\n",
    "\n",
    "The Google Play data set has a dedicated [discussion](https://www.kaggle.com/lava18/google-play-store-apps/discussion) section, and we can see that there are instances of duplicate data being reported."
   ],
   "cell_type": "markdown",
   "metadata": {}
  },
  {
   "source": [
    "### Part 1"
   ],
   "cell_type": "markdown",
   "metadata": {}
  },
  {
   "cell_type": "code",
   "execution_count": 55,
   "metadata": {},
   "outputs": [],
   "source": [
    "def find_duplicates(dataset, no_of_dupicates):\n",
    "    duplicate_apps = []\n",
    "    unique_apps = []\n",
    "    for row in dataset:\n",
    "        app_name = row[0]\n",
    "        if app_name in unique_apps:\n",
    "            duplicate_apps.append(app_name)\n",
    "        else:\n",
    "            unique_apps.append(app_name)\n",
    "\n",
    "    print(f'Number of duplicate apps: {len(duplicate_apps)}')\n",
    "    print('')\n",
    "    print(f'Example of duplicate apps :\\n {[duplicate_apps[:no_of_dupicates]]}')"
   ]
  },
  {
   "cell_type": "code",
   "execution_count": 56,
   "metadata": {},
   "outputs": [
    {
     "output_type": "stream",
     "name": "stdout",
     "text": [
      "Number of duplicate apps: 1181\n\nExample of duplicate apps :\n [['Quick PDF Scanner + OCR FREE', 'Box', 'Google My Business', 'ZOOM Cloud Meetings', 'join.me - Simple Meetings', 'Box', 'Zenefits', 'Google Ads', 'Google My Business', 'Slack', 'FreshBooks Classic', 'Insightly CRM', 'QuickBooks Accounting: Invoicing & Expenses', 'HipChat - Chat Built for Teams', 'Xero Accounting Software', 'MailChimp - Email, Marketing Automation', 'Crew - Free Messaging and Scheduling', 'Asana: organize team projects', 'Google Analytics', 'AdWords Express']]\n"
     ]
    }
   ],
   "source": [
    "find_duplicates(playstore_data, 20)"
   ]
  },
  {
   "source": [
    "From above output it is clear that in the Google Play Store data set in total ,there are 1181 cases wherein the apps occur more than once."
   ],
   "cell_type": "markdown",
   "metadata": {}
  },
  {
   "source": [
    "We don't want to count certain apps more than once when we analyze data, so we need to remove the duplicate entries and keep only one entry per app. One thing we could do is remove the duplicate rows randomly, but we could probably find a better way."
   ],
   "cell_type": "markdown",
   "metadata": {}
  },
  {
   "source": [
    "Let's futher see why these apps are occuring more than once"
   ],
   "cell_type": "markdown",
   "metadata": {}
  },
  {
   "cell_type": "code",
   "execution_count": 57,
   "metadata": {},
   "outputs": [
    {
     "output_type": "stream",
     "name": "stdout",
     "text": [
      "['Slack', 'BUSINESS', '4.4', '51507', 'Varies with device', '5,000,000+', 'Free', '0', 'Everyone', 'Business', 'August 2, 2018', 'Varies with device', 'Varies with device']\n['Slack', 'BUSINESS', '4.4', '51507', 'Varies with device', '5,000,000+', 'Free', '0', 'Everyone', 'Business', 'August 2, 2018', 'Varies with device', 'Varies with device']\n['Slack', 'BUSINESS', '4.4', '51510', 'Varies with device', '5,000,000+', 'Free', '0', 'Everyone', 'Business', 'August 2, 2018', 'Varies with device', 'Varies with device']\n"
     ]
    }
   ],
   "source": [
    "# example \n",
    "for row in playstore_data:\n",
    "    app_name = row[0]\n",
    "    if app_name == 'Slack':\n",
    "        print(row)"
   ]
  },
  {
   "source": [
    "By printing an example of a duplicate app (Slack) we can see that the Slack app has been recorded 3 times \n",
    "The differnce between the first record and the third record can be seen in the 4th column that is the 'reviews'.\n",
    "The difference in numbers denote that the data was collected at different times. We can use this as a criteria for keeping the appropriate record.\n",
    "We won't remove rows randomly, but rather we'll keep the rows that have the highest number of reviews because the higher the number of reviews, the more recent and reliable the ratings are. \n",
    "\n",
    "To do that, we will:\n",
    "\n",
    "* Create a dictionary where each key is a unique app name, and the value is the highest number of reviews of that app\n",
    "* Use the dictionary to create a new data set, which will have only one entry per app (and we only select the apps with the highest number of reviews)"
   ],
   "cell_type": "markdown",
   "metadata": {}
  },
  {
   "cell_type": "code",
   "execution_count": 58,
   "metadata": {},
   "outputs": [],
   "source": [
    "max_reviews = {}\n",
    "\n",
    "for row in playstore_data:\n",
    "    app_name = row[0]\n",
    "    no_reviews = float(row[3])\n",
    "    if (app_name in max_reviews) and (max_reviews[app_name] < no_reviews):\n",
    "        max_reviews[app_name] = no_reviews\n",
    "    elif app_name not in max_reviews:\n",
    "        max_reviews[app_name] = no_reviews"
   ]
  },
  {
   "source": [
    "In a previous code cell, we found that there are 1,181 cases where an app occurs more than once, so the length of our dictionary (of unique apps) should be equal to the difference between the length of our data set and 1,181."
   ],
   "cell_type": "markdown",
   "metadata": {}
  },
  {
   "cell_type": "code",
   "execution_count": 59,
   "metadata": {},
   "outputs": [
    {
     "output_type": "stream",
     "name": "stdout",
     "text": [
      "Expected Length: 9659\nActual Length: 9659\n"
     ]
    }
   ],
   "source": [
    "print(f'Expected Length: {len(playstore_data) - 1181}')\n",
    "print(f'Actual Length: {len(max_reviews)}')"
   ]
  },
  {
   "source": [
    "Now, let's use the reviews_max dictionary to remove the duplicates. For the duplicate cases, we'll only keep the entries with the highest number of reviews. In the code cell below:\n",
    "\n",
    "* We start by initializing two empty lists, android_clean and             already_added.\n",
    "* We loop through the android data set, and for every iteration:\n",
    "\n",
    "   - We isolate the name of the app and the number of reviews.\n",
    "   - We add the current row (app) to the android_clean list, and the         app name (name) to the already_added list if:\n",
    "       - The number of reviews of the current app matches the number              of reviews of that app as described in the reviews_max                  dictionary; and\n",
    "       - The name of the app is not already in the already_added                  list. We need to add this supplementary condition to                    account for those cases where the highest number of reviews              of a duplicate app is the same for more than one entry (for              example, the Box app has three entries, and the number of                reviews is the same). If we just check for                              reviews_max[name] == n_reviews, we'll still end up with                  duplicate entries for some apps."
   ],
   "cell_type": "markdown",
   "metadata": {}
  },
  {
   "cell_type": "code",
   "execution_count": 60,
   "metadata": {},
   "outputs": [],
   "source": [
    "playstore_no_duplicates = []\n",
    "already_added = []\n",
    "\n",
    "for row in playstore_data:\n",
    "    app_name = row[0]\n",
    "    no_reviews = float(row[3])\n",
    "    if (max_reviews[app_name] == no_reviews) and (app_name not in already_added):\n",
    "        playstore_no_duplicates.append(row)\n",
    "        already_added.append(app_name)"
   ]
  },
  {
   "cell_type": "code",
   "execution_count": 61,
   "metadata": {},
   "outputs": [
    {
     "output_type": "stream",
     "name": "stdout",
     "text": [
      "['Photo Editor & Candy Camera & Grid & ScrapBook', 'ART_AND_DESIGN', '4.1', '159', '19M', '10,000+', 'Free', '0', 'Everyone', 'Art & Design', 'January 7, 2018', '1.0.0', '4.0.3 and up']\n\n\n['U Launcher Lite – FREE Live Cool Themes, Hide Apps', 'ART_AND_DESIGN', '4.7', '87510', '8.7M', '5,000,000+', 'Free', '0', 'Everyone', 'Art & Design', 'August 1, 2018', '1.2.4', '4.0.3 and up']\n\n\n['Sketch - Draw & Paint', 'ART_AND_DESIGN', '4.5', '215644', '25M', '50,000,000+', 'Free', '0', 'Teen', 'Art & Design', 'June 8, 2018', 'Varies with device', '4.2 and up']\n\n\nNumber of Rows : 9659\nNumber of Columns: 13\n"
     ]
    }
   ],
   "source": [
    "explore_dataset(playstore_no_duplicates, 0, 3, True)"
   ]
  },
  {
   "source": [
    "## Removing Non-English Apps "
   ],
   "cell_type": "markdown",
   "metadata": {}
  },
  {
   "source": [
    "English text usually includes letters from the English alphabet, numbers composed of digits from 0 to 9, punctuation marks (., !, ?, ;, etc.), and other symbols (+, *, /, etc.). All these characters that are specific to English texts are encoded using the ASCII standard. Each ASCII character has a corresponding number between 0 and 127 associated with it, and we can take advantage of that to build a function that checks an app name and tells us whether it contains non-ASCII characters."
   ],
   "cell_type": "markdown",
   "metadata": {}
  },
  {
   "cell_type": "code",
   "execution_count": 62,
   "metadata": {},
   "outputs": [],
   "source": [
    "def english_app_check(string):\n",
    "    for character in string:\n",
    "        if ord(character) > 127:\n",
    "            return False\n",
    "        else:\n",
    "            return True"
   ]
  },
  {
   "cell_type": "code",
   "execution_count": 63,
   "metadata": {},
   "outputs": [
    {
     "output_type": "stream",
     "name": "stdout",
     "text": [
      "True\n",
      "False\n",
      "True\n",
      "True\n"
     ]
    }
   ],
   "source": [
    "print(english_app_check('Instagram'))\n",
    "print(english_app_check('爱奇艺PPS -《欢乐颂2》电视剧热播'))\n",
    "print(english_app_check('Docs To Go™ Free Office Suite'))\n",
    "print(english_app_check('Instachat 😜'))"
   ]
  },
  {
   "source": [
    "The function seems to work fine, but some English app names use emojis or other symbols (™, — (em dash), – (en dash), etc.) that fall outside of the ASCII range. Because of this, we’ll remove useful apps if we use the function in its current form. To minimize the impact of data loss, we’ll only remove an app if its name has more than three non-ASCII characters:"
   ],
   "cell_type": "markdown",
   "metadata": {}
  },
  {
   "cell_type": "code",
   "execution_count": 64,
   "metadata": {},
   "outputs": [],
   "source": [
    "def english_app_check(string):\n",
    "    non_ascii = 0\n",
    "    for character in string:\n",
    "        if ord(character) > 127:\n",
    "            non_ascii += 1\n",
    "    if non_ascii > 3:\n",
    "        return False\n",
    "    else:\n",
    "        return True"
   ]
  },
  {
   "cell_type": "code",
   "execution_count": 65,
   "metadata": {},
   "outputs": [
    {
     "output_type": "stream",
     "name": "stdout",
     "text": [
      "True\nTrue\nFalse\n"
     ]
    }
   ],
   "source": [
    "print(english_app_check('Docs To Go™ Free Office Suite'))\n",
    "print(english_app_check('Instachat 😜'))\n",
    "print(english_app_check('爱奇艺PPS -《欢乐颂2》电视剧热播'))"
   ]
  },
  {
   "source": [
    "The function is still not perfect, and very few non-English apps might get past our filter, but this seems good enough at this point in our analysis — we shouldn’t spend too much time on optimization at this point. Below, we use the english_app_check() function to filter out the non-English apps for both data sets:"
   ],
   "cell_type": "markdown",
   "metadata": {}
  },
  {
   "cell_type": "code",
   "execution_count": 66,
   "metadata": {},
   "outputs": [],
   "source": [
    "# playstore\n",
    "\n",
    "playstore_english = []\n",
    "\n",
    "for app in playstore_no_duplicates:\n",
    "    app_name = app[0]\n",
    "    if english_app_check(app_name):\n",
    "        playstore_english.append(app)"
   ]
  },
  {
   "cell_type": "code",
   "execution_count": 67,
   "metadata": {},
   "outputs": [
    {
     "output_type": "stream",
     "name": "stdout",
     "text": [
      "['Photo Editor & Candy Camera & Grid & ScrapBook', 'ART_AND_DESIGN', '4.1', '159', '19M', '10,000+', 'Free', '0', 'Everyone', 'Art & Design', 'January 7, 2018', '1.0.0', '4.0.3 and up']\n\n\n['U Launcher Lite – FREE Live Cool Themes, Hide Apps', 'ART_AND_DESIGN', '4.7', '87510', '8.7M', '5,000,000+', 'Free', '0', 'Everyone', 'Art & Design', 'August 1, 2018', '1.2.4', '4.0.3 and up']\n\n\n['Sketch - Draw & Paint', 'ART_AND_DESIGN', '4.5', '215644', '25M', '50,000,000+', 'Free', '0', 'Teen', 'Art & Design', 'June 8, 2018', 'Varies with device', '4.2 and up']\n\n\nNumber of Rows : 9614\nNumber of Columns: 13\n"
     ]
    }
   ],
   "source": [
    "explore_dataset(playstore_english, 0, 3, True)"
   ]
  },
  {
   "cell_type": "code",
   "execution_count": 68,
   "metadata": {},
   "outputs": [],
   "source": [
    "# appstore\n",
    "\n",
    "appstore_english = []\n",
    "\n",
    "for app in appstore_data:\n",
    "    app_name = app[1]\n",
    "    if english_app_check(app_name):\n",
    "        appstore_english.append(app)"
   ]
  },
  {
   "cell_type": "code",
   "execution_count": 69,
   "metadata": {},
   "outputs": [
    {
     "output_type": "stream",
     "name": "stdout",
     "text": [
      "['284882215', 'Facebook', '389879808', 'USD', '0.0', '2974676', '212', '3.5', '3.5', '95.0', '4+', 'Social Networking', '37', '1', '29', '1']\n\n\n['389801252', 'Instagram', '113954816', 'USD', '0.0', '2161558', '1289', '4.5', '4.0', '10.23', '12+', 'Photo & Video', '37', '0', '29', '1']\n\n\n['529479190', 'Clash of Clans', '116476928', 'USD', '0.0', '2130805', '579', '4.5', '4.5', '9.24.12', '9+', 'Games', '38', '5', '18', '1']\n\n\nNumber of Rows : 6183\nNumber of Columns: 16\n"
     ]
    }
   ],
   "source": [
    "explore_dataset(appstore_english, 0, 3, True)"
   ]
  },
  {
   "source": [
    "## Isolating the Free Apps"
   ],
   "cell_type": "markdown",
   "metadata": {}
  },
  {
   "source": [
    "As we mentioned in the introduction, we only build apps that are free to download and install, and our main source of revenue consists of in-app ads. Our data sets contain both free and non-free apps, and we’ll need to isolate only the free apps for our analysis. Below, we isolate the free apps for both our data sets."
   ],
   "cell_type": "markdown",
   "metadata": {}
  },
  {
   "cell_type": "code",
   "execution_count": 70,
   "metadata": {},
   "outputs": [],
   "source": [
    "# playstore\r\n",
    "\r\n",
    "playstore_free = []\r\n",
    "playstore_paid = []\r\n",
    "\r\n",
    "for app in playstore_english:\r\n",
    "    price = app[7]\r\n",
    "    if price == '0':\r\n",
    "        playstore_free.append(app)\r\n",
    "    else:\r\n",
    "        playstore_paid.append(app)"
   ]
  },
  {
   "cell_type": "code",
   "execution_count": 71,
   "metadata": {},
   "outputs": [
    {
     "output_type": "stream",
     "name": "stdout",
     "text": [
      "['App', 'Category', 'Rating', 'Reviews', 'Size', 'Installs', 'Type', 'Price', 'Content Rating', 'Genres', 'Last Updated', 'Current Ver', 'Android Ver'] \n\n['Photo Editor & Candy Camera & Grid & ScrapBook', 'ART_AND_DESIGN', '4.1', '159', '19M', '10,000+', 'Free', '0', 'Everyone', 'Art & Design', 'January 7, 2018', '1.0.0', '4.0.3 and up']\n\n\n['U Launcher Lite – FREE Live Cool Themes, Hide Apps', 'ART_AND_DESIGN', '4.7', '87510', '8.7M', '5,000,000+', 'Free', '0', 'Everyone', 'Art & Design', 'August 1, 2018', '1.2.4', '4.0.3 and up']\n\n\n['Sketch - Draw & Paint', 'ART_AND_DESIGN', '4.5', '215644', '25M', '50,000,000+', 'Free', '0', 'Teen', 'Art & Design', 'June 8, 2018', 'Varies with device', '4.2 and up']\n\n\nNumber of Rows : 8864\nNumber of Columns: 13\n"
     ]
    }
   ],
   "source": [
    "print(playstore_header, '\\n')\n",
    "explore_dataset(playstore_free, 0, 3, True)"
   ]
  },
  {
   "cell_type": "code",
   "execution_count": 72,
   "metadata": {},
   "outputs": [],
   "source": [
    "# appstore\n",
    "\n",
    "appstore_free = []\n",
    "appstore_paid = []\n",
    "\n",
    "for app in appstore_english:\n",
    "    price = app[4]\n",
    "    if price == '0.0':\n",
    "        appstore_free.append(app)\n",
    "    else:\n",
    "        appstore_paid.append(app)"
   ]
  },
  {
   "cell_type": "code",
   "execution_count": 73,
   "metadata": {},
   "outputs": [
    {
     "output_type": "stream",
     "name": "stdout",
     "text": [
      "['id', 'track_name', 'size_bytes', 'currency', 'price', 'rating_count_tot', 'rating_count_ver', 'user_rating', 'user_rating_ver', 'ver', 'cont_rating', 'prime_genre', 'sup_devices.num', 'ipadSc_urls.num', 'lang.num', 'vpp_lic'] \n",
      "\n",
      "['284882215', 'Facebook', '389879808', 'USD', '0.0', '2974676', '212', '3.5', '3.5', '95.0', '4+', 'Social Networking', '37', '1', '29', '1']\n",
      "\n",
      "\n",
      "['389801252', 'Instagram', '113954816', 'USD', '0.0', '2161558', '1289', '4.5', '4.0', '10.23', '12+', 'Photo & Video', '37', '0', '29', '1']\n",
      "\n",
      "\n",
      "['529479190', 'Clash of Clans', '116476928', 'USD', '0.0', '2130805', '579', '4.5', '4.5', '9.24.12', '9+', 'Games', '38', '5', '18', '1']\n",
      "\n",
      "\n",
      "Number of Rows : 3222\n",
      "Number of Columns: 16\n"
     ]
    }
   ],
   "source": [
    "print(appstore_header, '\\n')\n",
    "explore_dataset(appstore_free, 0, 3, True)"
   ]
  },
  {
   "source": [
    "## Most Common Apps by Genre"
   ],
   "cell_type": "markdown",
   "metadata": {}
  },
  {
   "source": [
    "As we mentioned in the introduction, our aim is to determine the kinds of apps that are likely to attract more users because our revenue is highly influenced by the number of people using our apps."
   ],
   "cell_type": "markdown",
   "metadata": {}
  },
  {
   "cell_type": "code",
   "execution_count": 74,
   "metadata": {},
   "outputs": [],
   "source": [
    "# Frequency Table with percentage\n",
    "\n",
    "def freq_table(dataset, column_index):\n",
    "\n",
    "    table = {}\n",
    "    total = 0\n",
    "\n",
    "    for row in dataset:\n",
    "        total += 1\n",
    "        value = row[column_index]\n",
    "        if value in table:\n",
    "            table[value] += 1\n",
    "        else:\n",
    "            table[value] = 1\n",
    "\n",
    "    # return table, total\n",
    "\n",
    "    table_percentage = {}\n",
    "\n",
    "    for key in table:\n",
    "        percentage = (table[key] / total) * 100\n",
    "        table_percentage[key] = percentage\n",
    "\n",
    "    return table_percentage"
   ]
  },
  {
   "cell_type": "code",
   "execution_count": 75,
   "metadata": {
    "tags": []
   },
   "outputs": [
    {
     "output_type": "stream",
     "name": "stdout",
     "text": [
      "{'Social Networking': 3.2898820608317814, 'Photo & Video': 4.9658597144630665, 'Games': 58.16263190564867, 'Music': 2.0484171322160147, 'Reference': 0.5586592178770949, 'Health & Fitness': 2.0173805090006205, 'Weather': 0.8690254500310366, 'Utilities': 2.5139664804469275, 'Travel': 1.2414649286157666, 'Shopping': 2.60707635009311, 'News': 1.3345747982619491, 'Navigation': 0.186219739292365, 'Lifestyle': 1.5828677839851024, 'Entertainment': 7.883302296710118, 'Food & Drink': 0.8069522036002483, 'Sports': 2.1415270018621975, 'Book': 0.4345127250155183, 'Finance': 1.1173184357541899, 'Education': 3.662321539416512, 'Productivity': 1.7380509000620732, 'Business': 0.5276225946617008, 'Catalogs': 0.12414649286157665, 'Medical': 0.186219739292365}\n"
     ]
    }
   ],
   "source": [
    "print(freq_table(appstore_free, 11))"
   ]
  },
  {
   "cell_type": "code",
   "execution_count": 76,
   "metadata": {},
   "outputs": [],
   "source": [
    "# displaying percentages in descending order\n",
    "\n",
    "def display_table(dataset, index):\n",
    "    table = freq_table(dataset, index)\n",
    "\n",
    "    table_display = []\n",
    "\n",
    "    for key in table:\n",
    "        key_value_tuple = (table[key], key)\n",
    "        table_display.append(key_value_tuple)\n",
    "\n",
    "    # return table_display\n",
    "\n",
    "    table_sorted = sorted(table_display, reverse = True)\n",
    "\n",
    "    # return table_sorted\n",
    "    \n",
    "    for entry in table_sorted:\n",
    "        print(entry[1], ' : ', entry[0])"
   ]
  },
  {
   "source": [
    "We start by examining the frequency table for the prime_genre column of the App Store data set"
   ],
   "cell_type": "markdown",
   "metadata": {
    "tags": [
     "outputPrepend"
    ]
   }
  },
  {
   "cell_type": "code",
   "execution_count": 77,
   "metadata": {},
   "outputs": [
    {
     "output_type": "stream",
     "name": "stdout",
     "text": [
      "Games  :  58.16263190564867\n",
      "Entertainment  :  7.883302296710118\n",
      "Photo & Video  :  4.9658597144630665\n",
      "Education  :  3.662321539416512\n",
      "Social Networking  :  3.2898820608317814\n",
      "Shopping  :  2.60707635009311\n",
      "Utilities  :  2.5139664804469275\n",
      "Sports  :  2.1415270018621975\n",
      "Music  :  2.0484171322160147\n",
      "Health & Fitness  :  2.0173805090006205\n",
      "Productivity  :  1.7380509000620732\n",
      "Lifestyle  :  1.5828677839851024\n",
      "News  :  1.3345747982619491\n",
      "Travel  :  1.2414649286157666\n",
      "Finance  :  1.1173184357541899\n",
      "Weather  :  0.8690254500310366\n",
      "Food & Drink  :  0.8069522036002483\n",
      "Reference  :  0.5586592178770949\n",
      "Business  :  0.5276225946617008\n",
      "Book  :  0.4345127250155183\n",
      "Navigation  :  0.186219739292365\n",
      "Medical  :  0.186219739292365\n",
      "Catalogs  :  0.12414649286157665\n"
     ]
    }
   ],
   "source": [
    "display_table(appstore_free, -5)"
   ]
  },
  {
   "source": [
    "We can see that among the free English apps, more than a half (58.16%) are games. Entertainment apps are close to 8%, followed by photo and video apps, which are close to 5%. Only 3.66% of the apps are designed for education, followed by social networking apps which amount for 3.29% of the apps in our data set. The general impression is that App Store (at least the part containing free English apps) is dominated by apps that are designed for fun (games, entertainment, photo and video, social networking, sports, music, etc.), while apps with practical purposes (education, shopping, utilities, productivity, lifestyle, etc.) are more rare. "
   ],
   "cell_type": "markdown",
   "metadata": {}
  },
  {
   "source": [
    "Let’s continue by examining the Genres and Category columns of the Google Play data set"
   ],
   "cell_type": "markdown",
   "metadata": {}
  },
  {
   "cell_type": "code",
   "execution_count": 78,
   "metadata": {},
   "outputs": [
    {
     "output_type": "stream",
     "name": "stdout",
     "text": [
      "FAMILY  :  18.18852610219517\nGAME  :  10.551558752997602\nTOOLS  :  7.775318206972884\nMEDICAL  :  4.270429809998156\nBUSINESS  :  4.242759638443092\nPRODUCTIVITY  :  3.910717579782328\nPERSONALIZATION  :  3.6155690831949827\nCOMMUNICATION  :  3.5694521306032096\nSPORTS  :  3.541781959048146\nLIFESTYLE  :  3.523335178011437\nFINANCE  :  3.3757609297177646\nHEALTH_AND_FITNESS  :  3.1451761667589007\nPHOTOGRAPHY  :  3.089835823648773\nSOCIAL  :  2.7209002029145912\nNEWS_AND_MAGAZINES  :  2.6102195166943365\nSHOPPING  :  2.3980815347721824\nTRAVEL_AND_LOCAL  :  2.3796347537354734\nDATING  :  2.158273381294964\nBOOKS_AND_REFERENCE  :  2.1306032097399004\nVIDEO_PLAYERS  :  1.614093340712046\nEDUCATION  :  1.4388489208633095\nENTERTAINMENT  :  1.3742851872348276\nMAPS_AND_NAVIGATION  :  1.263604501014573\nFOOD_AND_DRINK  :  1.1713705958310274\nHOUSE_AND_HOME  :  0.8116583656152001\nLIBRARIES_AND_DEMO  :  0.7839881940601365\nAUTO_AND_VEHICLES  :  0.7839881940601365\nWEATHER  :  0.7563180225050729\nART_AND_DESIGN  :  0.5995203836930456\nEVENTS  :  0.590296993174691\nPARENTING  :  0.5534034311012728\nCOMICS  :  0.5534034311012728\nBEAUTY  :  0.488839697472791\nCategory  :  0.009223390518354546\n1.9  :  0.009223390518354546\n"
     ]
    }
   ],
   "source": [
    "display_table(playstore, 1)"
   ]
  },
  {
   "source": [
    "The landscape seems significantly different on Google Play: there are not that many apps designed for fun, and it seems that a good number of apps are designed for practical purposes (family, tools, business, lifestyle, productivity, etc.)."
   ],
   "cell_type": "markdown",
   "metadata": {}
  },
  {
   "source": [
    "## Most Popular Apps By Genre On The Appstore"
   ],
   "cell_type": "markdown",
   "metadata": {}
  },
  {
   "source": [
    "One way to find out what genres are the most popular (have the most users) is to calculate the average number of installs for each app genre. For the Google Play data set, we can find this information in the Installs column, but for the App Store data set this information is missing. As a workaround, we’ll take the total number of user ratings as a proxy, which we can find in the rating_count_tot app."
   ],
   "cell_type": "markdown",
   "metadata": {}
  },
  {
   "cell_type": "code",
   "execution_count": 79,
   "metadata": {},
   "outputs": [
    {
     "output_type": "stream",
     "name": "stdout",
     "text": [
      "Social Networking : 71548.34905660378\n",
      "Photo & Video : 28441.54375\n",
      "Games : 22788.6696905016\n",
      "Music : 57326.530303030304\n",
      "Reference : 74942.11111111111\n",
      "Health & Fitness : 23298.015384615384\n",
      "Weather : 52279.892857142855\n",
      "Utilities : 18684.456790123455\n",
      "Travel : 28243.8\n",
      "Shopping : 26919.690476190477\n",
      "News : 21248.023255813954\n",
      "Navigation : 86090.33333333333\n",
      "Lifestyle : 16485.764705882353\n",
      "Entertainment : 14029.830708661417\n",
      "Food & Drink : 33333.92307692308\n",
      "Sports : 23008.898550724636\n",
      "Book : 39758.5\n",
      "Finance : 31467.944444444445\n",
      "Education : 7003.983050847458\n",
      "Productivity : 21028.410714285714\n",
      "Business : 7491.117647058823\n",
      "Catalogs : 4004.0\n",
      "Medical : 612.0\n"
     ]
    }
   ],
   "source": [
    "# Generating a frequency table to get the unique app genres \n",
    "appstore_genres = freq_table(appstore_free, -5)\n",
    "# print(appstore_genres)\n",
    "\n",
    "for genre in appstore_genres:\n",
    "    total = 0\n",
    "    len_genre = 0\n",
    "\n",
    "\n",
    "    for app in appstore_free:\n",
    "        app_genre = app[-5]\n",
    "        if app_genre == genre:\n",
    "            n_ratings = float(app[5])\n",
    "            total += n_ratings\n",
    "            len_genre += 1\n",
    "\n",
    "    avg_n_ratings = total / len_genre\n",
    "    print(genre, ':', avg_n_ratings)\n",
    "\n"
   ]
  },
  {
   "cell_type": "code",
   "execution_count": 80,
   "metadata": {},
   "outputs": [
    {
     "output_type": "error",
     "ename": "SyntaxError",
     "evalue": "invalid syntax (<ipython-input-80-b98da675c429>, line 1)",
     "traceback": [
      "\u001b[1;36m  File \u001b[1;32m\"<ipython-input-80-b98da675c429>\"\u001b[1;36m, line \u001b[1;32m1\u001b[0m\n\u001b[1;33m    On average, navigation apps have the highest number of user reviews, but this figure is heavily influenced by Waze and Google Maps, which have close to half a million user reviews together\u001b[0m\n\u001b[1;37m       ^\u001b[0m\n\u001b[1;31mSyntaxError\u001b[0m\u001b[1;31m:\u001b[0m invalid syntax\n"
     ]
    }
   ],
   "source": [
    "On average, navigation apps have the highest number of user reviews, but this figure is heavily influenced by Waze and Google Maps, which have close to half a million user reviews together"
   ]
  },
  {
   "cell_type": "code",
   "execution_count": 34,
   "metadata": {},
   "outputs": [
    {
     "output_type": "stream",
     "name": "stdout",
     "text": [
      "Waze - GPS Navigation, Maps & Real-time Traffic  :  345046\nGoogle Maps - Navigation & Transit  :  154911\nGeocaching®  :  12811\nCoPilot GPS – Car Navigation & Offline Maps  :  3582\nImmobilienScout24: Real Estate Search in Germany  :  187\nRailway Route Search  :  5\n"
     ]
    }
   ],
   "source": [
    "for app in appstore_free:\n",
    "    if app[-5] == 'Navigation':\n",
    "        print(app[1], ' : ', app[5])"
   ]
  },
  {
   "source": [
    "The same pattern applies to social networking apps, where the average number is heavily influenced by a few giants like Facebook, Pinterest, Skype, etc. Same applies to music apps, where a few big players like Pandora, Spotify, and Shazam heavily influence the average number. Our aim is to find popular genres, but navigation, social networking or music apps might seem more popular than they really are. The average number of ratings seem to be skewed by very few apps which have hundreds of thousands of user ratings, while the other apps may struggle to get past the 10,000 threshold. We could get a better picture by removing these extremely popular apps for each genre and then rework the averages, but we’ll leave this level of detail for later. Reference apps have 74,942 user ratings on average, but it’s actually the Bible and Dictionary.com which skew up the average rating:"
   ],
   "cell_type": "markdown",
   "metadata": {}
  },
  {
   "cell_type": "code",
   "execution_count": 35,
   "metadata": {},
   "outputs": [
    {
     "output_type": "stream",
     "name": "stdout",
     "text": [
      "Facebook  :  2974676\nPinterest  :  1061624\nSkype for iPhone  :  373519\nMessenger  :  351466\nTumblr  :  334293\nWhatsApp Messenger  :  287589\nKik  :  260965\nooVoo – Free Video Call, Text and Voice  :  177501\nTextNow - Unlimited Text + Calls  :  164963\nViber Messenger – Text & Call  :  164249\nFollowers - Social Analytics For Instagram  :  112778\nMeetMe - Chat and Meet New People  :  97072\nWe Heart It - Fashion, wallpapers, quotes, tattoos  :  90414\nInsTrack for Instagram - Analytics Plus More  :  85535\nTango - Free Video Call, Voice and Chat  :  75412\nLinkedIn  :  71856\nMatch™ - #1 Dating App.  :  60659\nSkype for iPad  :  60163\nPOF - Best Dating App for Conversations  :  52642\nTimehop  :  49510\nFind My Family, Friends & iPhone - Life360 Locator  :  43877\nWhisper - Share, Express, Meet  :  39819\nHangouts  :  36404\nLINE PLAY - Your Avatar World  :  34677\nWeChat  :  34584\nBadoo - Meet New People, Chat, Socialize.  :  34428\nFollowers + for Instagram - Follower Analytics  :  28633\nGroupMe  :  28260\nMarco Polo Video Walkie Talkie  :  27662\nMiitomo  :  23965\nSimSimi  :  23530\nGrindr - Gay and same sex guys chat, meet and date  :  23201\nWishbone - Compare Anything  :  20649\nimo video calls and chat  :  18841\nAfter School - Funny Anonymous School News  :  18482\nQuick Reposter - Repost, Regram and Reshare Photos  :  17694\nWeibo HD  :  16772\nRepost for Instagram  :  15185\nLive.me – Live Video Chat & Make Friends Nearby  :  14724\nNextdoor  :  14402\nFollowers Analytics for Instagram - InstaReport  :  13914\nYouNow: Live Stream Video Chat  :  12079\nFollowMeter for Instagram - Followers Tracking  :  11976\nLINE  :  11437\neHarmony™ Dating App - Meet Singles  :  11124\nDiscord - Chat for Gamers  :  9152\nQQ  :  9109\nTelegram Messenger  :  7573\nWeibo  :  7265\nPeriscope - Live Video Streaming Around the World  :  6062\nChat for Whatsapp - iPad Version  :  5060\nQQ HD  :  5058\nFollowers Analysis Tool For Instagram App Free  :  4253\nlive.ly - live video streaming  :  4145\nHouseparty - Group Video Chat  :  3991\nSOMA Messenger  :  3232\nMonkey  :  3060\nDown To Lunch  :  2535\nFlinch - Video Chat Staring Contest  :  2134\nHighrise - Your Avatar Community  :  2011\nLOVOO - Dating Chat  :  1985\nPlayStation®Messages  :  1918\nBOO! - Video chat camera with filters & stickers  :  1805\nQzone  :  1649\nChatous - Chat with new people  :  1609\nKiwi - Q&A  :  1538\nGhostCodes - a discovery app for Snapchat  :  1313\nJodel  :  1193\nFireChat  :  1037\nGoogle Duo - simple video calling  :  1033\nFiesta by Tango - Chat & Meet New People  :  885\nGoogle Allo — smart messaging  :  862\nPeach — share vividly  :  727\nHey! VINA - Where Women Meet New Friends  :  719\nBattlefield™ Companion  :  689\nAll Devices for WhatsApp - Messenger for iPad  :  682\nChat for Pokemon Go - GoChat  :  500\nIAmNaughty – Dating App to Meet New People Online  :  463\nQzone HD  :  458\nZenly - Locate your friends in realtime  :  427\nLeague of Legends Friends  :  420\n豆瓣  :  407\nCandid - Speak Your Mind Freely  :  398\n知乎  :  397\nSelfeo  :  366\nFake-A-Location Free ™  :  354\nPopcorn Buzz - Free Group Calls  :  281\nFam — Group video calling for iMessage  :  279\nQQ International  :  274\nAmeba  :  269\nSoundCloud Pulse: for creators  :  240\nTantan  :  235\nCougar Dating & Life Style App for Mature Women  :  213\nRawr Messenger - Dab your chat  :  180\nWhenToPost: Best Time to Post Photos for Instagram  :  158\nInke—Broadcast an amazing life  :  147\nMustknow - anonymous video Q&A  :  53\nCTFxCmoji  :  39\nLobi  :  36\nChain: Collaborate On MyVideo Story/Group Video  :  35\nbotman - Real time video chat  :  7\nBestieBox  :  0\nMATCH ON LINE chat  :  0\nniconico ch  :  0\nLINE BLOG  :  0\nbit-tube - Live Stream Video Chat  :  0\n"
     ]
    }
   ],
   "source": [
    "for app in appstore_free:\n",
    "    if app[-5] == 'Social Networking':\n",
    "        print(app[1], ' : ', app[5])"
   ]
  },
  {
   "cell_type": "code",
   "execution_count": 36,
   "metadata": {},
   "outputs": [
    {
     "output_type": "stream",
     "name": "stdout",
     "text": [
      "Pandora - Music & Radio  :  1126879\nSpotify Music  :  878563\nShazam - Discover music, artists, videos & lyrics  :  402925\niHeartRadio – Free Music & Radio Stations  :  293228\nSoundCloud - Music & Audio  :  135744\nMagic Piano by Smule  :  131695\nSmule Sing!  :  119316\nTuneIn Radio - MLB NBA Audiobooks Podcasts Music  :  110420\nAmazon Music  :  106235\nSoundHound Song Search & Music Player  :  82602\nSonos Controller  :  48905\nBandsintown Concerts  :  30845\nKaraoke - Sing Karaoke, Unlimited Songs!  :  28606\nMy Mixtapez Music  :  26286\nSing Karaoke Songs Unlimited with StarMaker  :  26227\nRingtones for iPhone & Ringtone Maker  :  25403\nMusi - Unlimited Music For YouTube  :  25193\nAutoRap by Smule  :  18202\nSpinrilla - Mixtapes For Free  :  15053\nNapster - Top Music & Radio  :  14268\nedjing Mix:DJ turntable to remix and scratch music  :  13580\nFree Music - MP3 Streamer & Playlist Manager Pro  :  13443\nFree Piano app by Yokee  :  13016\nGoogle Play Music  :  10118\nCertified Mixtapes - Hip Hop Albums & Mixtapes  :  9975\nTIDAL  :  7398\nYouTube Music  :  7109\nNicki Minaj: The Empire  :  5196\nSounds app - Music And Friends  :  5126\nSongFlip - Free Music Streamer  :  5004\nSimple Radio - Live AM & FM Radio Stations  :  4787\nDeezer - Listen to your Favorite Music & Playlists  :  4677\nRingtones for iPhone with Ringtone Maker  :  4013\nBose SoundTouch  :  3687\nAmazon Alexa  :  3018\nDatPiff  :  2815\nTrebel Music - Unlimited Music Downloader  :  2570\nFree Music Play - Mp3 Streamer & Player  :  2496\nAcapella from PicPlayPost  :  2487\nCoach Guitar - Lessons & Easy Tabs For Beginners  :  2416\nMusicloud - MP3 and FLAC Music Player for Cloud Platforms.  :  2211\nPiano - Play Keyboard Music Games with Magic Tiles  :  1636\nBoom: Best Equalizer & Magical Surround Sound  :  1375\nMusic Freedom - Unlimited Free MP3 Music Streaming  :  1246\nAmpMe - A Portable Social Party Music Speaker  :  1047\nMedly - Music Maker  :  933\nBose Connect  :  915\nMusic Memos  :  909\nUE BOOM  :  612\nLiveMixtapes  :  555\nNOISE  :  355\nMP3 Music Player & Streamer for Clouds  :  329\nMusical Video Maker - Create Music clips lip sync  :  320\nCloud Music Player - Downloader & Playlist Manager  :  319\nRemixlive - Remix loops with pads  :  288\nQQ音乐HD  :  224\nBlocs Wave - Make & Record Music  :  158\nPlayGround • Music At Your Fingertips  :  150\nMusic and Chill  :  135\nThe Singing Machine Mobile Karaoke App  :  130\nradio.de - Der Radioplayer  :  64\nFree Music -  Player & Streamer  for Dropbox, OneDrive & Google Drive  :  46\nNRJ Radio  :  38\nSmart Music: Streaming Videos and Radio  :  17\nBOSS Tuner  :  13\nPetitLyrics  :  0\n"
     ]
    }
   ],
   "source": [
    "for app in appstore_free:\n",
    "    if app[-5] == 'Music':\n",
    "        print(app[1], ' : ', app[5])"
   ]
  },
  {
   "cell_type": "code",
   "execution_count": 38,
   "metadata": {},
   "outputs": [
    {
     "output_type": "stream",
     "name": "stdout",
     "text": [
      "Bible  :  985920\nDictionary.com Dictionary & Thesaurus  :  200047\nDictionary.com Dictionary & Thesaurus for iPad  :  54175\nGoogle Translate  :  26786\nMuslim Pro: Ramadan 2017 Prayer Times, Azan, Quran  :  18418\nNew Furniture Mods - Pocket Wiki & Game Tools for Minecraft PC Edition  :  17588\nMerriam-Webster Dictionary  :  16849\nNight Sky  :  12122\nCity Maps for Minecraft PE - The Best Maps for Minecraft Pocket Edition (MCPE)  :  8535\nLUCKY BLOCK MOD ™ for Minecraft PC Edition - The Best Pocket Wiki & Mods Installer Tools  :  4693\nGUNS MODS for Minecraft PC Edition - Mods Tools  :  1497\nGuides for Pokémon GO - Pokemon GO News and Cheats  :  826\nWWDC  :  762\nHorror Maps for Minecraft PE - Download The Scariest Maps for Minecraft Pocket Edition (MCPE) Free  :  718\nVPN Express  :  14\nReal Bike Traffic Rider Virtual Reality Glasses  :  8\n教えて!goo  :  0\nJishokun-Japanese English Dictionary & Translator  :  0\n"
     ]
    }
   ],
   "source": [
    "for app in appstore_free:\n",
    "    if app[-5] == 'Reference':\n",
    "        print(app[1], ' : ', app[5])"
   ]
  },
  {
   "source": [
    "## Most Popular Apps By Genre On Playstore\n"
   ],
   "cell_type": "markdown",
   "metadata": {}
  },
  {
   "source": [
    "For the Google Play market, we actually have data about the number of installs, so we should be able to get a clearer picture about genre popularity. However, the install numbers don’t seem precise enough — we can see that most values are open-ended (100+, 1,000+, 5,000+, etc.):"
   ],
   "cell_type": "markdown",
   "metadata": {}
  },
  {
   "cell_type": "code",
   "execution_count": 41,
   "metadata": {},
   "outputs": [
    {
     "output_type": "stream",
     "name": "stdout",
     "text": [
      "1,000,000+  :  15.726534296028879\n100,000+  :  11.552346570397113\n10,000,000+  :  10.548285198555957\n10,000+  :  10.198555956678701\n1,000+  :  8.393501805054152\n100+  :  6.915613718411552\n5,000,000+  :  6.825361010830325\n500,000+  :  5.561823104693141\n50,000+  :  4.7721119133574\n5,000+  :  4.512635379061372\n10+  :  3.5424187725631766\n500+  :  3.2490974729241873\n50,000,000+  :  2.3014440433213\n100,000,000+  :  2.1322202166064983\n50+  :  1.917870036101083\n5+  :  0.78971119133574\n1+  :  0.5076714801444043\n500,000,000+  :  0.2707581227436823\n1,000,000,000+  :  0.22563176895306858\n0+  :  0.04512635379061372\n0  :  0.01128158844765343\n"
     ]
    }
   ],
   "source": [
    "display_table(playstore_free, 5)"
   ]
  },
  {
   "source": [
    "One problem with this data is that is not precise. For instance, we don’t know whether an app with 100,000+ installs has 100,000 installs, 200,000, or 350,000. However, we don’t need very precise data for our purposes — we only want to get an idea which app genres attract the most users, and we don’t need perfect precision with respect to the number of users. We’re going to leave the numbers as they are, which means that we’ll consider that an app with 100,000+ installs has 100,000 installs, and an app with 1,000,000+ installs has 1,000,000 installs, and so on. To perform computations, however, we’ll need to convert each install number to float — this means that we need to remove the commas and the plus characters, otherwise the conversion will fail and raise an error. We’ll do this directly in the loop below, where we also compute the average number of installs for each genre (category)."
   ],
   "cell_type": "markdown",
   "metadata": {}
  },
  {
   "cell_type": "code",
   "execution_count": 42,
   "metadata": {},
   "outputs": [
    {
     "output_type": "stream",
     "name": "stdout",
     "text": [
      "ART_AND_DESIGN : 1986335.0877192982\n",
      "AUTO_AND_VEHICLES : 647317.8170731707\n",
      "BEAUTY : 513151.88679245283\n",
      "BOOKS_AND_REFERENCE : 8767811.894736841\n",
      "BUSINESS : 1712290.1474201474\n",
      "COMICS : 817657.2727272727\n",
      "COMMUNICATION : 38456119.167247385\n",
      "DATING : 854028.8303030303\n",
      "EDUCATION : 1833495.145631068\n",
      "ENTERTAINMENT : 11640705.88235294\n",
      "EVENTS : 253542.22222222222\n",
      "FINANCE : 1387692.475609756\n",
      "FOOD_AND_DRINK : 1924897.7363636363\n",
      "HEALTH_AND_FITNESS : 4188821.9853479853\n",
      "HOUSE_AND_HOME : 1331540.5616438356\n",
      "LIBRARIES_AND_DEMO : 638503.734939759\n",
      "LIFESTYLE : 1437816.2687861272\n",
      "GAME : 15588015.603248259\n",
      "FAMILY : 3695641.8198090694\n",
      "MEDICAL : 120550.61980830671\n",
      "SOCIAL : 23253652.127118643\n",
      "SHOPPING : 7036877.311557789\n",
      "PHOTOGRAPHY : 17840110.40229885\n",
      "SPORTS : 3638640.1428571427\n",
      "TRAVEL_AND_LOCAL : 13984077.710144928\n",
      "TOOLS : 10801391.298666667\n",
      "PERSONALIZATION : 5201482.6122448975\n",
      "PRODUCTIVITY : 16787331.344927534\n",
      "PARENTING : 542603.6206896552\n",
      "WEATHER : 5074486.197183099\n",
      "VIDEO_PLAYERS : 24727872.452830188\n",
      "NEWS_AND_MAGAZINES : 9549178.467741935\n",
      "MAPS_AND_NAVIGATION : 4056941.7741935486\n"
     ]
    }
   ],
   "source": [
    "# Generating a frequency table to get the unique app genres\n",
    "playstore_categories = freq_table(playstore_free, 1)\n",
    "\n",
    "# looping over unique app genres\n",
    "for category in playstore_categories:\n",
    "    total = 0\n",
    "    len_category = 0\n",
    "\n",
    "    for app in playstore_free:\n",
    "        app_category = app[1]\n",
    "        if app_category == category:\n",
    "            n_installs = app[5]\n",
    "            n_installs = n_installs.replace(',', '')\n",
    "            n_installs = n_installs.replace('+', '')\n",
    "            total += float(n_installs)\n",
    "            len_category += 1\n",
    "\n",
    "    avg_n_installs = total / len_category\n",
    "    print(category, ':', avg_n_installs)\n"
   ]
  },
  {
   "source": [
    "On average, communication apps have the most installs: 38,456,119. This number is heavily skewed up by a few apps that have over one billion installs (WhatsApp, Facebook Messenger, Skype, Google Chrome, Gmail, and Hangouts), and a few others with over 100 and 500 million installs:"
   ],
   "cell_type": "markdown",
   "metadata": {}
  },
  {
   "cell_type": "code",
   "execution_count": 44,
   "metadata": {},
   "outputs": [
    {
     "output_type": "stream",
     "name": "stdout",
     "text": [
      "WhatsApp Messenger : 1,000,000,000+\nimo beta free calls and text : 100,000,000+\nAndroid Messages : 100,000,000+\nGoogle Duo - High Quality Video Calls : 500,000,000+\nMessenger – Text and Video Chat for Free : 1,000,000,000+\nimo free video calls and chat : 500,000,000+\nSkype - free IM & video calls : 1,000,000,000+\nWho : 100,000,000+\nGO SMS Pro - Messenger, Free Themes, Emoji : 100,000,000+\nLINE: Free Calls & Messages : 500,000,000+\nGoogle Chrome: Fast & Secure : 1,000,000,000+\nFirefox Browser fast & private : 100,000,000+\nUC Browser - Fast Download Private & Secure : 500,000,000+\nGmail : 1,000,000,000+\nHangouts : 1,000,000,000+\nMessenger Lite: Free Calls & Messages : 100,000,000+\nKik : 100,000,000+\nKakaoTalk: Free Calls & Text : 100,000,000+\nOpera Mini - fast web browser : 100,000,000+\nOpera Browser: Fast and Secure : 100,000,000+\nTelegram : 100,000,000+\nTruecaller: Caller ID, SMS spam blocking & Dialer : 100,000,000+\nUC Browser Mini -Tiny Fast Private & Secure : 100,000,000+\nViber Messenger : 500,000,000+\nWeChat : 100,000,000+\nYahoo Mail – Stay Organized : 100,000,000+\nBBM - Free Calls & Messages : 100,000,000+\n"
     ]
    }
   ],
   "source": [
    "for app in playstore_free:\n",
    "    if app[1] == 'COMMUNICATION' and (app[5] == '1,000,000,000+'\n",
    "                                      or app[5] == '500,000,000+'\n",
    "                                      or app[5] == '100,000,000+'):\n",
    "        print(app[0], ':', app[5])"
   ]
  },
  {
   "source": [
    "If we removed all the communication apps that have over 100 million installs, the average would be reduced by more than ten times"
   ],
   "cell_type": "markdown",
   "metadata": {}
  },
  {
   "cell_type": "code",
   "execution_count": 45,
   "metadata": {},
   "outputs": [
    {
     "output_type": "execute_result",
     "data": {
      "text/plain": [
       "2821347.6231027693"
      ]
     },
     "metadata": {},
     "execution_count": 45
    }
   ],
   "source": [
    "under_100_m = []\n",
    "\n",
    "for app in playstore_free:\n",
    "    n_installs = app[5]\n",
    "    n_installs = n_installs.replace(',', '')\n",
    "    n_installs = n_installs.replace('+', '')\n",
    "    if float(n_installs) < 100000000:\n",
    "        under_100_m.append(float(n_installs))\n",
    "\n",
    "sum(under_100_m) / len(under_100_m)"
   ]
  },
  {
   "source": [
    "We see the same pattern for the video players category, which is the runner-up with 24,727,872 installs. The market is dominated by apps like Youtube, Google Play Movies & TV, and MX Player. The pattern is repeated for social apps (where we have giants like Facebook, Instagram, Google+, etc.), photography apps (Google Photos and other popular photo editors), or productivity apps (Microsoft Word, Dropbox, Google Calendar, Evernote, etc.). Again, the main concern is that these app genres might seem more popular than they really are. Moreover, these niches seem to be dominated by a few giants who are hard to compete against. The game genre seems pretty popular, but previously we found out this part of the market seems a bit saturated, so we’d like to come up with a different app recommendation if possible. The books and reference genre looks fairly popular as well, with an average number of installs of 8,767,811. It’s interesting to explore this in more depth, since we found this genre has some potential to work well on the App Store, and our aim is to recommend an app genre that shows potential for being profitable on both the App Store and Google Play. Let’s take a look at some of the apps from this genre and their number of installs"
   ],
   "cell_type": "markdown",
   "metadata": {}
  },
  {
   "cell_type": "code",
   "execution_count": 46,
   "metadata": {},
   "outputs": [
    {
     "output_type": "stream",
     "name": "stdout",
     "text": [
      "E-Book Read - Read Book for free : 50,000+\nDownload free book with green book : 100,000+\nWikipedia : 10,000,000+\nCool Reader : 10,000,000+\nFree Panda Radio Music : 100,000+\nBook store : 1,000,000+\nFBReader: Favorite Book Reader : 10,000,000+\nEnglish Grammar Complete Handbook : 500,000+\nFree Books - Spirit Fanfiction and Stories : 1,000,000+\nGoogle Play Books : 1,000,000,000+\nAlReader -any text book reader : 5,000,000+\nOffline English Dictionary : 100,000+\nOffline: English to Tagalog Dictionary : 500,000+\nFamilySearch Tree : 1,000,000+\nCloud of Books : 1,000,000+\nRecipes of Prophetic Medicine for free : 500,000+\nReadEra – free ebook reader : 1,000,000+\nAnonymous caller detection : 10,000+\nEbook Reader : 5,000,000+\nLitnet - E-books : 100,000+\nRead books online : 5,000,000+\nEnglish to Urdu Dictionary : 500,000+\neBoox: book reader fb2 epub zip : 1,000,000+\nEnglish Persian Dictionary : 500,000+\nFlybook : 500,000+\nAll Maths Formulas : 1,000,000+\nAncestry : 5,000,000+\nHTC Help : 10,000,000+\nEnglish translation from Bengali : 100,000+\nPdf Book Download - Read Pdf Book : 100,000+\nFree Book Reader : 100,000+\neBoox new: Reader for fb2 epub zip books : 50,000+\nOnly 30 days in English, the guideline is guaranteed : 500,000+\nMoon+ Reader : 10,000,000+\nSH-02J Owner's Manual (Android 8.0) : 50,000+\nEnglish-Myanmar Dictionary : 1,000,000+\nGolden Dictionary (EN-AR) : 1,000,000+\nAll Language Translator Free : 1,000,000+\nAzpen eReader : 500,000+\nURBANO V 02 instruction manual : 100,000+\nBible : 100,000,000+\nC Programs and Reference : 50,000+\nC Offline Tutorial : 1,000+\nC Programs Handbook : 50,000+\nAmazon Kindle : 100,000,000+\nAab e Hayat Full Novel : 100,000+\nAldiko Book Reader : 10,000,000+\nGoogle I/O 2018 : 500,000+\nR Language Reference Guide : 10,000+\nLearn R Programming Full : 5,000+\nR Programing Offline Tutorial : 1,000+\nGuide for R Programming : 5+\nLearn R Programming : 10+\nR Quick Reference Big Data : 1,000+\nV Made : 100,000+\nWattpad 📖 Free Books : 100,000,000+\nDictionary - WordWeb : 5,000,000+\nGuide (for X-MEN) : 100,000+\nAC Air condition Troubleshoot,Repair,Maintenance : 5,000+\nAE Bulletins : 1,000+\nAe Allah na Dai (Rasa) : 10,000+\n50000 Free eBooks & Free AudioBooks : 5,000,000+\nAg PhD Field Guide : 10,000+\nAg PhD Deficiencies : 10,000+\nAg PhD Planting Population Calculator : 1,000+\nAg PhD Soybean Diseases : 1,000+\nFertilizer Removal By Crop : 50,000+\nA-J Media Vault : 50+\nAl-Quran (Free) : 10,000,000+\nAl Quran (Tafsir & by Word) : 500,000+\nAl Quran Indonesia : 10,000,000+\nAl'Quran Bahasa Indonesia : 10,000,000+\nAl Quran Al karim : 1,000,000+\nAl-Muhaffiz : 50,000+\nAl Quran : EAlim - Translations & MP3 Offline : 5,000,000+\nAl-Quran 30 Juz free copies : 500,000+\nKoran Read &MP3 30 Juz Offline : 1,000,000+\nHafizi Quran 15 lines per page : 1,000,000+\nQuran for Android : 10,000,000+\nSurah Al-Waqiah : 100,000+\nHisnul Al Muslim - Hisn Invocations & Adhkaar : 100,000+\nSatellite AR : 1,000,000+\nAudiobooks from Audible : 100,000,000+\nKinot & Eichah for Tisha B'Av : 10,000+\nAW Tozer Devotionals - Daily : 5,000+\nTozer Devotional -Series 1 : 1,000+\nThe Pursuit of God : 1,000+\nAY Sing : 5,000+\nAy Hasnain k Nana Milad Naat : 10,000+\nAy Mohabbat Teri Khatir Novel : 10,000+\nArizona Statutes, ARS (AZ Law) : 1,000+\nOxford A-Z of English Usage : 1,000,000+\nBD Fishpedia : 1,000+\nBD All Sim Offer : 10,000+\nYouboox - Livres, BD et magazines : 500,000+\nB&H Kids AR : 10,000+\nB y H Niños ES : 5,000+\nDictionary.com: Find Definitions for English Words : 10,000,000+\nEnglish Dictionary - Offline : 10,000,000+\nBible KJV : 5,000,000+\nBorneo Bible, BM Bible : 10,000+\nMOD Black for BM : 100+\nBM Box : 1,000+\nAnime Mod for BM : 100+\nNOOK: Read eBooks & Magazines : 10,000,000+\nNOOK Audiobooks : 500,000+\nNOOK App for NOOK Devices : 500,000+\nBrowsery by Barnes & Noble : 5,000+\nbp e-store : 1,000+\nBrilliant Quotes: Life, Love, Family & Motivation : 1,000,000+\nBR Ambedkar Biography & Quotes : 10,000+\nBU Alsace : 100+\nCatholic La Bu Zo Kam : 500+\nKhrifa Hla Bu (Solfa) : 10+\nKristian Hla Bu : 10,000+\nSA HLA BU : 1,000+\nLearn SAP BW : 500+\nLearn SAP BW on HANA : 500+\nCA Laws 2018 (California Laws and Codes) : 5,000+\nBootable Methods(USB-CD-DVD) : 10,000+\ncloudLibrary : 100,000+\nSDA Collegiate Quarterly : 500+\nSabbath School : 100,000+\nCypress College Library : 100+\nStats Royale for Clash Royale : 1,000,000+\nGATE 21 years CS Papers(2011-2018 Solved) : 50+\nLearn CT Scan Of Head : 5,000+\nEasy Cv maker 2018 : 10,000+\nHow to Write CV : 100,000+\nCW Nuclear : 1,000+\nCY Spray nozzle : 10+\nBibleRead En Cy Zh Yue : 5+\nCZ-Help : 5+\nModlitební knížka CZ : 500+\nGuide for DB Xenoverse : 10,000+\nGuide for DB Xenoverse 2 : 10,000+\nGuide for IMS DB : 10+\nDC HSEMA : 5,000+\nDC Public Library : 1,000+\nPainting Lulu DC Super Friends : 1,000+\nDictionary : 10,000,000+\nFix Error Google Playstore : 1,000+\nD. H. Lawrence Poems FREE : 1,000+\nBilingual Dictionary Audio App : 5,000+\nDM Screen : 10,000+\nwikiHow: how to do anything : 1,000,000+\nDr. Doug's Tips : 1,000+\nBible du Semeur-BDS (French) : 50,000+\nLa citadelle du musulman : 50,000+\nDV 2019 Entry Guide : 10,000+\nDV 2019 - EDV Photo & Form : 50,000+\nDV 2018 Winners Guide : 1,000+\nEB Annual Meetings : 1,000+\nEC - AP & Telangana : 5,000+\nTN Patta Citta & EC : 10,000+\nAP Stamps and Registration : 10,000+\nCompactiMa EC pH Calibration : 100+\nEGW Writings 2 : 100,000+\nEGW Writings : 1,000,000+\nBible with EGW Comments : 100,000+\nMy Little Pony AR Guide : 1,000,000+\nSDA Sabbath School Quarterly : 500,000+\nDuaa Ek Ibaadat : 5,000+\nSpanish English Translator : 10,000,000+\nDictionary - Merriam-Webster : 10,000,000+\nJW Library : 10,000,000+\nOxford Dictionary of English : Free : 10,000,000+\nEnglish Hindi Dictionary : 10,000,000+\nEnglish to Hindi Dictionary : 5,000,000+\nEP Research Service : 1,000+\nHymnes et Louanges : 100,000+\nEU Charter : 1,000+\nEU Data Protection : 1,000+\nEU IP Codes : 100+\nEW PDF : 5+\nBakaReader EX : 100,000+\nEZ Quran : 50,000+\nFA Part 1 & 2 Past Papers Solved Free – Offline : 5,000+\nLa Fe de Jesus : 1,000+\nLa Fe de Jesús : 500+\nLe Fe de Jesus : 500+\nFlorida - Pocket Brainbook : 1,000+\nFlorida Statutes (FL Code) : 1,000+\nEnglish To Shona Dictionary : 10,000+\nGreek Bible FP (Audio) : 1,000+\nGolden Dictionary (FR-AR) : 500,000+\nFanfic-FR : 5,000+\nBulgarian French Dictionary Fr : 10,000+\nChemin (fr) : 1,000+\nThe SCP Foundation DB fr nn5n : 1,000+\n"
     ]
    }
   ],
   "source": [
    "for app in playstore_free:\n",
    "    if app[1] == 'BOOKS_AND_REFERENCE':\n",
    "        print(app[0], ':', app[5])"
   ]
  },
  {
   "source": [
    "The book and reference genre includes a variety of apps: software for processing and reading ebooks, various collections of libraries, dictionaries, tutorials on programming or languages, etc. It seems there’s still a small number of extremely popular apps that skew the average"
   ],
   "cell_type": "markdown",
   "metadata": {}
  },
  {
   "cell_type": "code",
   "execution_count": 47,
   "metadata": {},
   "outputs": [
    {
     "output_type": "stream",
     "name": "stdout",
     "text": [
      "Google Play Books : 1,000,000,000+\nBible : 100,000,000+\nAmazon Kindle : 100,000,000+\nWattpad 📖 Free Books : 100,000,000+\nAudiobooks from Audible : 100,000,000+\n"
     ]
    }
   ],
   "source": [
    "for app in playstore_free:\n",
    "    if app[1] == 'BOOKS_AND_REFERENCE' and (app[5] == '1,000,000,000+'\n",
    "                                            or app[5] == '500,000,000+'\n",
    "                                            or app[5] == '100,000,000+'):\n",
    "        print(app[0], ':', app[5])"
   ]
  },
  {
   "source": [
    "However, it looks like there are only a few very popular apps, so this market still shows potential. Let’s try to get some app ideas based on the kind of apps that are somewhere in the middle in terms of popularity (between 1,000,000 and 100,000,000 downloads):"
   ],
   "cell_type": "markdown",
   "metadata": {}
  },
  {
   "cell_type": "code",
   "execution_count": 48,
   "metadata": {},
   "outputs": [
    {
     "output_type": "stream",
     "name": "stdout",
     "text": [
      "Wikipedia : 10,000,000+\nCool Reader : 10,000,000+\nBook store : 1,000,000+\nFBReader: Favorite Book Reader : 10,000,000+\nFree Books - Spirit Fanfiction and Stories : 1,000,000+\nAlReader -any text book reader : 5,000,000+\nFamilySearch Tree : 1,000,000+\nCloud of Books : 1,000,000+\nReadEra – free ebook reader : 1,000,000+\nEbook Reader : 5,000,000+\nRead books online : 5,000,000+\neBoox: book reader fb2 epub zip : 1,000,000+\nAll Maths Formulas : 1,000,000+\nAncestry : 5,000,000+\nHTC Help : 10,000,000+\nMoon+ Reader : 10,000,000+\nEnglish-Myanmar Dictionary : 1,000,000+\nGolden Dictionary (EN-AR) : 1,000,000+\nAll Language Translator Free : 1,000,000+\nAldiko Book Reader : 10,000,000+\nDictionary - WordWeb : 5,000,000+\n50000 Free eBooks & Free AudioBooks : 5,000,000+\nAl-Quran (Free) : 10,000,000+\nAl Quran Indonesia : 10,000,000+\nAl'Quran Bahasa Indonesia : 10,000,000+\nAl Quran Al karim : 1,000,000+\nAl Quran : EAlim - Translations & MP3 Offline : 5,000,000+\nKoran Read &MP3 30 Juz Offline : 1,000,000+\nHafizi Quran 15 lines per page : 1,000,000+\nQuran for Android : 10,000,000+\nSatellite AR : 1,000,000+\nOxford A-Z of English Usage : 1,000,000+\nDictionary.com: Find Definitions for English Words : 10,000,000+\nEnglish Dictionary - Offline : 10,000,000+\nBible KJV : 5,000,000+\nNOOK: Read eBooks & Magazines : 10,000,000+\nBrilliant Quotes: Life, Love, Family & Motivation : 1,000,000+\nStats Royale for Clash Royale : 1,000,000+\nDictionary : 10,000,000+\nwikiHow: how to do anything : 1,000,000+\nEGW Writings : 1,000,000+\nMy Little Pony AR Guide : 1,000,000+\nSpanish English Translator : 10,000,000+\nDictionary - Merriam-Webster : 10,000,000+\nJW Library : 10,000,000+\nOxford Dictionary of English : Free : 10,000,000+\nEnglish Hindi Dictionary : 10,000,000+\nEnglish to Hindi Dictionary : 5,000,000+\n"
     ]
    }
   ],
   "source": [
    "for app in playstore_free:\n",
    "    if app[1] == 'BOOKS_AND_REFERENCE' and (app[5] == '1,000,000+'\n",
    "                                            or app[5] == '5,000,000+'\n",
    "                                            or app[5] == '10,000,000+'\n",
    "                                            or app[5] == '50,000,000+'):\n",
    "        print(app[0], ':', app[5])"
   ]
  },
  {
   "source": [
    "   This niche seems to be dominated by software for processing and reading ebooks, as well as various collections of libraries and dictionaries, so it’s probably not a good idea to build similar apps since there’ll be some significant competition. We also notice there are quite a few apps built around the book Quran, which suggests that building an app around a popular book can be profitable. It seems that taking a popular book (perhaps a more recent book) and turning it into an app could be profitable for both the Google Play and the App Store markets. However, it looks like the market is already full of libraries, so we need to add some special features besides the raw version of the book. This might include daily quotes from the book, an audio version of the book, quizzes on the book, a forum where people can discuss the book, etc. "
   ],
   "cell_type": "markdown",
   "metadata": {}
  }
 ]
}